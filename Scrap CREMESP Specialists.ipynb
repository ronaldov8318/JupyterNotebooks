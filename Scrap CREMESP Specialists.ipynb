{
 "cells": [
  {
   "cell_type": "code",
   "execution_count": 9,
   "id": "15987b92",
   "metadata": {
    "scrolled": true
   },
   "outputs": [
    {
     "name": "stderr",
     "output_type": "stream",
     "text": [
      "C:\\Users\\Luiz\\AppData\\Local\\Temp\\ipykernel_9080\\2593979114.py:23: FutureWarning: The frame.append method is deprecated and will be removed from pandas in a future version. Use pandas.concat instead.\n",
      "  df1 = df1.append(df)\n",
      "C:\\Users\\Luiz\\AppData\\Local\\Temp\\ipykernel_9080\\2593979114.py:23: FutureWarning: The frame.append method is deprecated and will be removed from pandas in a future version. Use pandas.concat instead.\n",
      "  df1 = df1.append(df)\n",
      "C:\\Users\\Luiz\\AppData\\Local\\Temp\\ipykernel_9080\\2593979114.py:23: FutureWarning: The frame.append method is deprecated and will be removed from pandas in a future version. Use pandas.concat instead.\n",
      "  df1 = df1.append(df)\n",
      "C:\\Users\\Luiz\\AppData\\Local\\Temp\\ipykernel_9080\\2593979114.py:23: FutureWarning: The frame.append method is deprecated and will be removed from pandas in a future version. Use pandas.concat instead.\n",
      "  df1 = df1.append(df)\n",
      "C:\\Users\\Luiz\\AppData\\Local\\Temp\\ipykernel_9080\\2593979114.py:23: FutureWarning: The frame.append method is deprecated and will be removed from pandas in a future version. Use pandas.concat instead.\n",
      "  df1 = df1.append(df)\n"
     ]
    },
    {
     "ename": "ElementClickInterceptedException",
     "evalue": "Message: element click intercepted: Element <a class=\"paginate_button next disabled\" aria-controls=\"DataTables_Table_0\" data-dt-idx=\"2\" tabindex=\"-1\" id=\"DataTables_Table_0_next\">...</a> is not clickable at point (675, 798). Other element would receive the click: <div class=\"dataTables_paginate paging_full\" id=\"DataTables_Table_0_paginate\">...</div>\n  (Session info: chrome=107.0.5304.88)\nStacktrace:\nBacktrace:\n\tOrdinal0 [0x008BACD3+2075859]\n\tOrdinal0 [0x0084EE61+1633889]\n\tOrdinal0 [0x0074B7BD+571325]\n\tOrdinal0 [0x00781499+791705]\n\tOrdinal0 [0x0077F4AC+783532]\n\tOrdinal0 [0x0077D0AB+774315]\n\tOrdinal0 [0x0077BD37+769335]\n\tOrdinal0 [0x00771C76+728182]\n\tOrdinal0 [0x0079731C+881436]\n\tOrdinal0 [0x007715BF+726463]\n\tOrdinal0 [0x00797534+881972]\n\tOrdinal0 [0x007AB56A+963946]\n\tOrdinal0 [0x00797136+880950]\n\tOrdinal0 [0x0076FEFD+720637]\n\tOrdinal0 [0x00770F3F+724799]\n\tGetHandleVerifier [0x00B6EED2+2769538]\n\tGetHandleVerifier [0x00B60D95+2711877]\n\tGetHandleVerifier [0x0094A03A+521194]\n\tGetHandleVerifier [0x00948DA0+516432]\n\tOrdinal0 [0x0085682C+1665068]\n\tOrdinal0 [0x0085B128+1683752]\n\tOrdinal0 [0x0085B215+1683989]\n\tOrdinal0 [0x00866484+1729668]\n\tBaseThreadInitThunk [0x771FFA29+25]\n\tRtlGetAppContainerNamedObjectPath [0x77E17BBE+286]\n\tRtlGetAppContainerNamedObjectPath [0x77E17B8E+238]\n",
     "output_type": "error",
     "traceback": [
      "\u001b[1;31m---------------------------------------------------------------------------\u001b[0m",
      "\u001b[1;31mElementClickInterceptedException\u001b[0m          Traceback (most recent call last)",
      "\u001b[1;32m~\\AppData\\Local\\Temp\\ipykernel_9080\\2593979114.py\u001b[0m in \u001b[0;36m<module>\u001b[1;34m\u001b[0m\n\u001b[0;32m     22\u001b[0m     \u001b[0mdf\u001b[0m \u001b[1;33m=\u001b[0m \u001b[0mpd\u001b[0m\u001b[1;33m.\u001b[0m\u001b[0mDataFrame\u001b[0m\u001b[1;33m(\u001b[0m\u001b[0mlist_table\u001b[0m\u001b[1;33m)\u001b[0m\u001b[1;33m\u001b[0m\u001b[1;33m\u001b[0m\u001b[0m\n\u001b[0;32m     23\u001b[0m     \u001b[0mdf1\u001b[0m \u001b[1;33m=\u001b[0m \u001b[0mdf1\u001b[0m\u001b[1;33m.\u001b[0m\u001b[0mappend\u001b[0m\u001b[1;33m(\u001b[0m\u001b[0mdf\u001b[0m\u001b[1;33m)\u001b[0m\u001b[1;33m\u001b[0m\u001b[1;33m\u001b[0m\u001b[0m\n\u001b[1;32m---> 24\u001b[1;33m     \u001b[0mbrowser\u001b[0m\u001b[1;33m.\u001b[0m\u001b[0mfind_element\u001b[0m\u001b[1;33m(\u001b[0m\u001b[0mBy\u001b[0m\u001b[1;33m.\u001b[0m\u001b[0mXPATH\u001b[0m\u001b[1;33m,\u001b[0m\u001b[1;34m\"//*[@id='DataTables_Table_0_next']\"\u001b[0m\u001b[1;33m)\u001b[0m\u001b[1;33m.\u001b[0m\u001b[0mclick\u001b[0m\u001b[1;33m(\u001b[0m\u001b[1;33m)\u001b[0m\u001b[1;33m\u001b[0m\u001b[1;33m\u001b[0m\u001b[0m\n\u001b[0m\u001b[0;32m     25\u001b[0m \u001b[1;33m\u001b[0m\u001b[0m\n\u001b[0;32m     26\u001b[0m \u001b[0mtime\u001b[0m\u001b[1;33m.\u001b[0m\u001b[0msleep\u001b[0m\u001b[1;33m(\u001b[0m\u001b[1;36m1\u001b[0m\u001b[1;33m)\u001b[0m\u001b[1;33m\u001b[0m\u001b[1;33m\u001b[0m\u001b[0m\n",
      "\u001b[1;32m~\\anaconda3\\lib\\site-packages\\selenium\\webdriver\\remote\\webelement.py\u001b[0m in \u001b[0;36mclick\u001b[1;34m(self)\u001b[0m\n\u001b[0;32m     86\u001b[0m     \u001b[1;32mdef\u001b[0m \u001b[0mclick\u001b[0m\u001b[1;33m(\u001b[0m\u001b[0mself\u001b[0m\u001b[1;33m)\u001b[0m \u001b[1;33m->\u001b[0m \u001b[1;32mNone\u001b[0m\u001b[1;33m:\u001b[0m\u001b[1;33m\u001b[0m\u001b[1;33m\u001b[0m\u001b[0m\n\u001b[0;32m     87\u001b[0m         \u001b[1;34m\"\"\"Clicks the element.\"\"\"\u001b[0m\u001b[1;33m\u001b[0m\u001b[1;33m\u001b[0m\u001b[0m\n\u001b[1;32m---> 88\u001b[1;33m         \u001b[0mself\u001b[0m\u001b[1;33m.\u001b[0m\u001b[0m_execute\u001b[0m\u001b[1;33m(\u001b[0m\u001b[0mCommand\u001b[0m\u001b[1;33m.\u001b[0m\u001b[0mCLICK_ELEMENT\u001b[0m\u001b[1;33m)\u001b[0m\u001b[1;33m\u001b[0m\u001b[1;33m\u001b[0m\u001b[0m\n\u001b[0m\u001b[0;32m     89\u001b[0m \u001b[1;33m\u001b[0m\u001b[0m\n\u001b[0;32m     90\u001b[0m     \u001b[1;32mdef\u001b[0m \u001b[0msubmit\u001b[0m\u001b[1;33m(\u001b[0m\u001b[0mself\u001b[0m\u001b[1;33m)\u001b[0m\u001b[1;33m:\u001b[0m\u001b[1;33m\u001b[0m\u001b[1;33m\u001b[0m\u001b[0m\n",
      "\u001b[1;32m~\\anaconda3\\lib\\site-packages\\selenium\\webdriver\\remote\\webelement.py\u001b[0m in \u001b[0;36m_execute\u001b[1;34m(self, command, params)\u001b[0m\n\u001b[0;32m    394\u001b[0m             \u001b[0mparams\u001b[0m \u001b[1;33m=\u001b[0m \u001b[1;33m{\u001b[0m\u001b[1;33m}\u001b[0m\u001b[1;33m\u001b[0m\u001b[1;33m\u001b[0m\u001b[0m\n\u001b[0;32m    395\u001b[0m         \u001b[0mparams\u001b[0m\u001b[1;33m[\u001b[0m\u001b[1;34m'id'\u001b[0m\u001b[1;33m]\u001b[0m \u001b[1;33m=\u001b[0m \u001b[0mself\u001b[0m\u001b[1;33m.\u001b[0m\u001b[0m_id\u001b[0m\u001b[1;33m\u001b[0m\u001b[1;33m\u001b[0m\u001b[0m\n\u001b[1;32m--> 396\u001b[1;33m         \u001b[1;32mreturn\u001b[0m \u001b[0mself\u001b[0m\u001b[1;33m.\u001b[0m\u001b[0m_parent\u001b[0m\u001b[1;33m.\u001b[0m\u001b[0mexecute\u001b[0m\u001b[1;33m(\u001b[0m\u001b[0mcommand\u001b[0m\u001b[1;33m,\u001b[0m \u001b[0mparams\u001b[0m\u001b[1;33m)\u001b[0m\u001b[1;33m\u001b[0m\u001b[1;33m\u001b[0m\u001b[0m\n\u001b[0m\u001b[0;32m    397\u001b[0m \u001b[1;33m\u001b[0m\u001b[0m\n\u001b[0;32m    398\u001b[0m     \u001b[1;32mdef\u001b[0m \u001b[0mfind_element\u001b[0m\u001b[1;33m(\u001b[0m\u001b[0mself\u001b[0m\u001b[1;33m,\u001b[0m \u001b[0mby\u001b[0m\u001b[1;33m=\u001b[0m\u001b[0mBy\u001b[0m\u001b[1;33m.\u001b[0m\u001b[0mID\u001b[0m\u001b[1;33m,\u001b[0m \u001b[0mvalue\u001b[0m\u001b[1;33m=\u001b[0m\u001b[1;32mNone\u001b[0m\u001b[1;33m)\u001b[0m \u001b[1;33m->\u001b[0m \u001b[0mWebElement\u001b[0m\u001b[1;33m:\u001b[0m\u001b[1;33m\u001b[0m\u001b[1;33m\u001b[0m\u001b[0m\n",
      "\u001b[1;32m~\\anaconda3\\lib\\site-packages\\selenium\\webdriver\\remote\\webdriver.py\u001b[0m in \u001b[0;36mexecute\u001b[1;34m(self, driver_command, params)\u001b[0m\n\u001b[0;32m    427\u001b[0m         \u001b[0mresponse\u001b[0m \u001b[1;33m=\u001b[0m \u001b[0mself\u001b[0m\u001b[1;33m.\u001b[0m\u001b[0mcommand_executor\u001b[0m\u001b[1;33m.\u001b[0m\u001b[0mexecute\u001b[0m\u001b[1;33m(\u001b[0m\u001b[0mdriver_command\u001b[0m\u001b[1;33m,\u001b[0m \u001b[0mparams\u001b[0m\u001b[1;33m)\u001b[0m\u001b[1;33m\u001b[0m\u001b[1;33m\u001b[0m\u001b[0m\n\u001b[0;32m    428\u001b[0m         \u001b[1;32mif\u001b[0m \u001b[0mresponse\u001b[0m\u001b[1;33m:\u001b[0m\u001b[1;33m\u001b[0m\u001b[1;33m\u001b[0m\u001b[0m\n\u001b[1;32m--> 429\u001b[1;33m             \u001b[0mself\u001b[0m\u001b[1;33m.\u001b[0m\u001b[0merror_handler\u001b[0m\u001b[1;33m.\u001b[0m\u001b[0mcheck_response\u001b[0m\u001b[1;33m(\u001b[0m\u001b[0mresponse\u001b[0m\u001b[1;33m)\u001b[0m\u001b[1;33m\u001b[0m\u001b[1;33m\u001b[0m\u001b[0m\n\u001b[0m\u001b[0;32m    430\u001b[0m             response['value'] = self._unwrap_value(\n\u001b[0;32m    431\u001b[0m                 response.get('value', None))\n",
      "\u001b[1;32m~\\anaconda3\\lib\\site-packages\\selenium\\webdriver\\remote\\errorhandler.py\u001b[0m in \u001b[0;36mcheck_response\u001b[1;34m(self, response)\u001b[0m\n\u001b[0;32m    241\u001b[0m                 \u001b[0malert_text\u001b[0m \u001b[1;33m=\u001b[0m \u001b[0mvalue\u001b[0m\u001b[1;33m[\u001b[0m\u001b[1;34m'alert'\u001b[0m\u001b[1;33m]\u001b[0m\u001b[1;33m.\u001b[0m\u001b[0mget\u001b[0m\u001b[1;33m(\u001b[0m\u001b[1;34m'text'\u001b[0m\u001b[1;33m)\u001b[0m\u001b[1;33m\u001b[0m\u001b[1;33m\u001b[0m\u001b[0m\n\u001b[0;32m    242\u001b[0m             \u001b[1;32mraise\u001b[0m \u001b[0mexception_class\u001b[0m\u001b[1;33m(\u001b[0m\u001b[0mmessage\u001b[0m\u001b[1;33m,\u001b[0m \u001b[0mscreen\u001b[0m\u001b[1;33m,\u001b[0m \u001b[0mstacktrace\u001b[0m\u001b[1;33m,\u001b[0m \u001b[0malert_text\u001b[0m\u001b[1;33m)\u001b[0m  \u001b[1;31m# type: ignore[call-arg]  # mypy is not smart enough here\u001b[0m\u001b[1;33m\u001b[0m\u001b[1;33m\u001b[0m\u001b[0m\n\u001b[1;32m--> 243\u001b[1;33m         \u001b[1;32mraise\u001b[0m \u001b[0mexception_class\u001b[0m\u001b[1;33m(\u001b[0m\u001b[0mmessage\u001b[0m\u001b[1;33m,\u001b[0m \u001b[0mscreen\u001b[0m\u001b[1;33m,\u001b[0m \u001b[0mstacktrace\u001b[0m\u001b[1;33m)\u001b[0m\u001b[1;33m\u001b[0m\u001b[1;33m\u001b[0m\u001b[0m\n\u001b[0m",
      "\u001b[1;31mElementClickInterceptedException\u001b[0m: Message: element click intercepted: Element <a class=\"paginate_button next disabled\" aria-controls=\"DataTables_Table_0\" data-dt-idx=\"2\" tabindex=\"-1\" id=\"DataTables_Table_0_next\">...</a> is not clickable at point (675, 798). Other element would receive the click: <div class=\"dataTables_paginate paging_full\" id=\"DataTables_Table_0_paginate\">...</div>\n  (Session info: chrome=107.0.5304.88)\nStacktrace:\nBacktrace:\n\tOrdinal0 [0x008BACD3+2075859]\n\tOrdinal0 [0x0084EE61+1633889]\n\tOrdinal0 [0x0074B7BD+571325]\n\tOrdinal0 [0x00781499+791705]\n\tOrdinal0 [0x0077F4AC+783532]\n\tOrdinal0 [0x0077D0AB+774315]\n\tOrdinal0 [0x0077BD37+769335]\n\tOrdinal0 [0x00771C76+728182]\n\tOrdinal0 [0x0079731C+881436]\n\tOrdinal0 [0x007715BF+726463]\n\tOrdinal0 [0x00797534+881972]\n\tOrdinal0 [0x007AB56A+963946]\n\tOrdinal0 [0x00797136+880950]\n\tOrdinal0 [0x0076FEFD+720637]\n\tOrdinal0 [0x00770F3F+724799]\n\tGetHandleVerifier [0x00B6EED2+2769538]\n\tGetHandleVerifier [0x00B60D95+2711877]\n\tGetHandleVerifier [0x0094A03A+521194]\n\tGetHandleVerifier [0x00948DA0+516432]\n\tOrdinal0 [0x0085682C+1665068]\n\tOrdinal0 [0x0085B128+1683752]\n\tOrdinal0 [0x0085B215+1683989]\n\tOrdinal0 [0x00866484+1729668]\n\tBaseThreadInitThunk [0x771FFA29+25]\n\tRtlGetAppContainerNamedObjectPath [0x77E17BBE+286]\n\tRtlGetAppContainerNamedObjectPath [0x77E17B8E+238]\n"
     ]
    }
   ],
   "source": [
    "from selenium import webdriver\n",
    "from selenium.webdriver.common.by import By\n",
    "from selenium.webdriver.common.keys import Keys\n",
    "import pandas as pd\n",
    "import html5lib\n",
    "import time\n",
    "\n",
    "counter = 0\n",
    "especialidade = \"TISIOLOGIA\"\n",
    "browser = webdriver.Chrome()\n",
    "browser.get('https://guiamedico.cremesp.org.br/')\n",
    "browser.find_element(By.XPATH,\"/html/body/app-root/div/app-principal/div/div[1]/app-pesquisa-form/div[2]/div/form/ng-select/div/div/div[2]/input\").send_keys(especialidade)\n",
    "browser.find_element(By.XPATH,\"/html/body/app-root/div/app-principal/div/div[1]/app-pesquisa-form/div[2]/div/form/ng-select/div/div/div[2]/input\").send_keys(Keys.ENTER)\n",
    "browser.find_element(By.XPATH,\"/html/body/app-root/div/app-principal/div/div[1]/app-pesquisa-form/div[2]/div/form/div[4]/div/button\").click()\n",
    "df1=pd.DataFrame(columns=['NOME','SITUAÇÃO','CRM'])\n",
    "\n",
    "time.sleep(1)\n",
    "while 'disabled' not in browser.find_element(By.XPATH,\"//*[@id='DataTables_Table_0_next']\").get_attribute(\"class\"):\n",
    "    time.sleep(1)\n",
    "    tbl = browser.find_element(By.XPATH,\"//*[@id='DataTables_Table_0']\").get_attribute(\"outerHTML\")\n",
    "    list_table = pd.read_html(tbl,header=0)[0]\n",
    "    df = pd.DataFrame(list_table)\n",
    "    df1 = df1.append(df)\n",
    "    browser.find_element(By.XPATH,\"//*[@id='DataTables_Table_0_next']\").click()\n",
    "    \n",
    "time.sleep(1)\n",
    "tbl = browser.find_element(By.XPATH,\"//*[@id='DataTables_Table_0']\").get_attribute(\"outerHTML\")\n",
    "list_table = pd.read_html(tbl,header=0)[0]\n",
    "df = pd.DataFrame(list_table)\n",
    "df1 = df1.append(df)\n",
    "\n",
    "\n",
    "df1.to_excel(r\"C:\\Users\\Luiz\\Desktop\\TISIOLOGIA.xlsx\")\n"
   ]
  },
  {
   "cell_type": "code",
   "execution_count": 8,
   "id": "497dd9d7",
   "metadata": {},
   "outputs": [
    {
     "name": "stderr",
     "output_type": "stream",
     "text": [
      "C:\\Users\\Luiz\\AppData\\Local\\Temp\\ipykernel_9080\\3544500486.py:7: FutureWarning: The frame.append method is deprecated and will be removed from pandas in a future version. Use pandas.concat instead.\n",
      "  df1 = df1.append(df)\n",
      "C:\\Users\\Luiz\\AppData\\Local\\Temp\\ipykernel_9080\\3544500486.py:7: FutureWarning: The frame.append method is deprecated and will be removed from pandas in a future version. Use pandas.concat instead.\n",
      "  df1 = df1.append(df)\n",
      "C:\\Users\\Luiz\\AppData\\Local\\Temp\\ipykernel_9080\\3544500486.py:7: FutureWarning: The frame.append method is deprecated and will be removed from pandas in a future version. Use pandas.concat instead.\n",
      "  df1 = df1.append(df)\n",
      "C:\\Users\\Luiz\\AppData\\Local\\Temp\\ipykernel_9080\\3544500486.py:7: FutureWarning: The frame.append method is deprecated and will be removed from pandas in a future version. Use pandas.concat instead.\n",
      "  df1 = df1.append(df)\n"
     ]
    }
   ],
   "source": [
    "while 'disabled' not in browser.find_element(By.XPATH,\"//*[@id='DataTables_Table_0_next']\").get_attribute(\"class\"):\n",
    "    browser.find_element(By.XPATH,\"//*[@id='DataTables_Table_0_next']\").click()\n",
    "    time.sleep(1)\n",
    "    tbl = browser.find_element(By.XPATH,\"//*[@id='DataTables_Table_0']\").get_attribute(\"outerHTML\")\n",
    "    list_table = pd.read_html(tbl,header=0)[0]\n",
    "    df = pd.DataFrame(list_table)\n",
    "    df1 = df1.append(df)"
   ]
  },
  {
   "cell_type": "code",
   "execution_count": 76,
   "id": "fbbcdc4d",
   "metadata": {},
   "outputs": [
    {
     "name": "stdout",
     "output_type": "stream",
     "text": [
      "paginate_button next disabled\n"
     ]
    }
   ],
   "source": [
    "print(browser.find_element(By.XPATH,\"//*[@id='DataTables_Table_0_next']\").get_attribute(\"class\"))"
   ]
  },
  {
   "cell_type": "code",
   "execution_count": 5,
   "id": "fb98bd73",
   "metadata": {},
   "outputs": [
    {
     "name": "stdout",
     "output_type": "stream",
     "text": [
      "True\n",
      "False\n"
     ]
    }
   ],
   "source": [
    "print(browser.find_element(By.XPATH,\"//*[@id='DataTables_Table_0_next']\").is_enabled())\n",
    "print('disabled' not in browser.find_element(By.XPATH,\"//*[@id='DataTables_Table_0_next']\").get_attribute(\"class\"))"
   ]
  },
  {
   "cell_type": "code",
   "execution_count": null,
   "id": "c6c472a3",
   "metadata": {},
   "outputs": [],
   "source": []
  }
 ],
 "metadata": {
  "kernelspec": {
   "display_name": "Python 3 (ipykernel)",
   "language": "python",
   "name": "python3"
  },
  "language_info": {
   "codemirror_mode": {
    "name": "ipython",
    "version": 3
   },
   "file_extension": ".py",
   "mimetype": "text/x-python",
   "name": "python",
   "nbconvert_exporter": "python",
   "pygments_lexer": "ipython3",
   "version": "3.9.13"
  }
 },
 "nbformat": 4,
 "nbformat_minor": 5
}
