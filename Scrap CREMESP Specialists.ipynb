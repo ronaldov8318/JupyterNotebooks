{
 "cells": [
  {
   "cell_type": "code",
   "execution_count": 2,
   "id": "15987b92",
   "metadata": {
    "scrolled": true
   },
   "outputs": [
    {
     "name": "stderr",
     "output_type": "stream",
     "text": [
      "C:\\Users\\Luiz\\AppData\\Local\\Temp\\ipykernel_7976\\3805455196.py:23: FutureWarning: The frame.append method is deprecated and will be removed from pandas in a future version. Use pandas.concat instead.\n",
      "  df1 = df1.append(df)\n",
      "C:\\Users\\Luiz\\AppData\\Local\\Temp\\ipykernel_7976\\3805455196.py:23: FutureWarning: The frame.append method is deprecated and will be removed from pandas in a future version. Use pandas.concat instead.\n",
      "  df1 = df1.append(df)\n",
      "C:\\Users\\Luiz\\AppData\\Local\\Temp\\ipykernel_7976\\3805455196.py:23: FutureWarning: The frame.append method is deprecated and will be removed from pandas in a future version. Use pandas.concat instead.\n",
      "  df1 = df1.append(df)\n",
      "C:\\Users\\Luiz\\AppData\\Local\\Temp\\ipykernel_7976\\3805455196.py:23: FutureWarning: The frame.append method is deprecated and will be removed from pandas in a future version. Use pandas.concat instead.\n",
      "  df1 = df1.append(df)\n",
      "C:\\Users\\Luiz\\AppData\\Local\\Temp\\ipykernel_7976\\3805455196.py:30: FutureWarning: The frame.append method is deprecated and will be removed from pandas in a future version. Use pandas.concat instead.\n",
      "  df1 = df1.append(df)\n"
     ]
    }
   ],
   "source": [
    "from selenium import webdriver\n",
    "from selenium.webdriver.common.by import By\n",
    "from selenium.webdriver.common.keys import Keys\n",
    "import pandas as pd\n",
    "import html5lib\n",
    "import time\n",
    "\n",
    "especialidade = \"TISIOLOGIA\"\n",
    "browser = webdriver.Chrome()\n",
    "browser.get('https://guiamedico.cremesp.org.br/')\n",
    "browser.find_element(By.XPATH,\"/html/body/app-root/div/app-principal/div/div[1]/app-pesquisa-form/div[2]/div/form/ng-select/div/div/div[2]/input\").send_keys(especialidade)\n",
    "browser.find_element(By.XPATH,\"/html/body/app-root/div/app-principal/div/div[1]/app-pesquisa-form/div[2]/div/form/ng-select/div/div/div[2]/input\").send_keys(Keys.ENTER)\n",
    "browser.find_element(By.XPATH,\"/html/body/app-root/div/app-principal/div/div[1]/app-pesquisa-form/div[2]/div/form/div[4]/div/button\").click()\n",
    "df1=pd.DataFrame(columns=['NOME','SITUAÇÃO','CRM'])\n",
    "\n",
    "time.sleep(1)\n",
    "while 'disabled' not in browser.find_element(By.XPATH,\"//*[@id='DataTables_Table_0_next']\").get_attribute(\"class\"):\n",
    "    browser.find_element(By.XPATH,\"//*[@id='DataTables_Table_0_next']\").click()\n",
    "    time.sleep(1)\n",
    "    tbl = browser.find_element(By.XPATH,\"//*[@id='DataTables_Table_0']\").get_attribute(\"outerHTML\")\n",
    "    list_table = pd.read_html(tbl,header=0)[0]\n",
    "    df = pd.DataFrame(list_table)\n",
    "    df1 = df1.append(df)\n",
    "\n",
    "    \n",
    "time.sleep(1)\n",
    "tbl = browser.find_element(By.XPATH,\"//*[@id='DataTables_Table_0']\").get_attribute(\"outerHTML\")\n",
    "list_table = pd.read_html(tbl,header=0)[0]\n",
    "df = pd.DataFrame(list_table)\n",
    "df1 = df1.append(df)\n",
    "\n",
    "\n",
    "df1.to_excel(r\"C:\\Users\\Luiz\\Desktop\\TISIOLOGIA.xlsx\")\n"
   ]
  },
  {
   "cell_type": "code",
   "execution_count": null,
   "id": "6d43e73f",
   "metadata": {},
   "outputs": [],
   "source": []
  }
 ],
 "metadata": {
  "kernelspec": {
   "display_name": "Python 3 (ipykernel)",
   "language": "python",
   "name": "python3"
  },
  "language_info": {
   "codemirror_mode": {
    "name": "ipython",
    "version": 3
   },
   "file_extension": ".py",
   "mimetype": "text/x-python",
   "name": "python",
   "nbconvert_exporter": "python",
   "pygments_lexer": "ipython3",
   "version": "3.9.13"
  }
 },
 "nbformat": 4,
 "nbformat_minor": 5
}
